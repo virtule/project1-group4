{
 "cells": [
  {
   "cell_type": "code",
   "execution_count": null,
   "metadata": {},
   "outputs": [],
   "source": [
    "import pandas as pd\n",
    "import numpy as np"
   ]
  },
  {
   "cell_type": "code",
   "execution_count": null,
   "metadata": {},
   "outputs": [],
   "source": [
    "team_summaries_df = pd.read_csv(\"Team Summaries.csv\")\n",
    "team_total_df = pd.read_csv(\"Team Totals.csv\")\n",
    "team_df = pd.merge(team_total_df, team_summaries_df, how='outer')\n",
    "team_df.head()"
   ]
  },
  {
   "cell_type": "code",
   "execution_count": null,
   "metadata": {},
   "outputs": [],
   "source": [
    "team_reduced_df = team_df[[\"season\", \"team\", \"playoffs\", \"fg_percent\", \"x3p_percent\", \"x2p_percent\", \"ft_percent\", \"orb\", \"drb\", \"trb\", \"ast\", \"stl\", \"blk\", \"tov\", \"pts\", \"w\", \"l\", \"srs\", \"o_rtg\", \"d_rtg\", \"n_rtg\", \"f_tr\", \"x3p_ar\", \"e_fg_percent\", \"tov_percent\", \"orb_percent\"\n",
    "]]\n",
    "columns = {\n",
    "    \"season\": \"Season\",\n",
    "    \"team\": \"Team\",\n",
    "    \"playoffs\": \"Playoffs\",\n",
    "    \"fg_percent\": \"Field Goal Percentage\",\n",
    "    \"x3p_percent\": \"Three-Point Percentage\",\n",
    "    \"x2p_percent\": \"Two-Point Percentage\",\n",
    "    \"ft_percent\": \"Free Throw Percentage\",\n",
    "    \"orb\": \"Offensive Rebounds\",\n",
    "    \"drb\": \"Defensive Rebounds\",\n",
    "    \"trb\": \"Total Rebounds\",\n",
    "    \"ast\": \"Assists\",\n",
    "    \"stl\": \"Steals\",\n",
    "    \"blk\": \"Blocks\",\n",
    "    \"tov\": \"Turnovers\",\n",
    "    \"pts\": \"Points\",\n",
    "    \"w\": \"Wins\",\n",
    "    \"l\": \"Losses\",\n",
    "    \"srs\": \"Simple Rating System\",\n",
    "    \"o_rtg\": \"Offensive Rating\",\n",
    "    \"d_rtg\": \"Defensive Rating\",\n",
    "    \"n_rtg\": \"Net Rating\",\n",
    "    \"f_tr\": \"Free Throw Rate\",\n",
    "    \"x3p_ar\": \"Three-Point Attempt Rate\",\n",
    "    \"e_fg_percent\": \"Effective Field Goal Percentage\",\n",
    "    \"tov_percent\": \"Turnover Percentage\",\n",
    "    \"orb_percent\": \"Offensive Rebound Percentage\"\n",
    "}\n",
    "team_reduced_df = team_reduced_df.rename(columns=columns)\n",
    "team_reduced_df.head()"
   ]
  },
  {
   "cell_type": "code",
   "execution_count": null,
   "metadata": {},
   "outputs": [],
   "source": [
    "##Cleaning Offensive\n",
    "offensive_df = team_reduced_df[[\"Season\", \"Team\", \"Playoffs\", \"Field Goal Percentage\", \"Three-Point Percentage\", \"Two-Point Percentage\", \"Free Throw Percentage\", \"Offensive Rebounds\", \"Assists\", \"Points\", \"Wins\", \"Losses\", \"Offensive Rating\", \"Free Throw Rate\", \"Three-Point Attempt Rate\", \"Effective Field Goal Percentage\", \"Turnover Percentage\", \"Offensive Rebound Percentage\"]]\n",
    "\n",
    "offensive_df.head()"
   ]
  },
  {
   "cell_type": "code",
   "execution_count": null,
   "metadata": {},
   "outputs": [],
   "source": []
  },
  {
   "cell_type": "code",
   "execution_count": null,
   "metadata": {},
   "outputs": [],
   "source": []
  },
  {
   "cell_type": "code",
   "execution_count": null,
   "metadata": {},
   "outputs": [],
   "source": []
  },
  {
   "cell_type": "code",
   "execution_count": null,
   "metadata": {},
   "outputs": [],
   "source": []
  }
 ],
 "metadata": {
  "kernelspec": {
   "display_name": "dev",
   "language": "python",
   "name": "python3"
  },
  "language_info": {
   "codemirror_mode": {
    "name": "ipython",
    "version": 3
   },
   "file_extension": ".py",
   "mimetype": "text/x-python",
   "name": "python",
   "nbconvert_exporter": "python",
   "pygments_lexer": "ipython3",
   "version": "3.10.13"
  }
 },
 "nbformat": 4,
 "nbformat_minor": 2
}
