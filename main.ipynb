{
 "cells": [
  {
   "cell_type": "code",
   "execution_count": null,
   "metadata": {},
   "outputs": [],
   "source": [
    "## Import Dependencies\n",
    "import pandas as pd\n",
    "import numpy as np\n",
    "import matplotlib.pyplot as plt"
   ]
  },
  {
   "cell_type": "code",
   "execution_count": null,
   "metadata": {},
   "outputs": [],
   "source": [
    "## Import CSV File\n",
    "team_summaries_df = pd.read_csv(\"Team Summaries.csv\")\n",
    "team_total_df = pd.read_csv(\"Team Totals.csv\")\n",
    "team_df = pd.merge(team_total_df, team_summaries_df, how='outer')\n",
    "team_df.head()\n",
    "pd.set_option('display.max_columns', 500)"
   ]
  },
  {
   "cell_type": "code",
   "execution_count": null,
   "metadata": {},
   "outputs": [],
   "source": [
    "#Clean/Downsize Data\n",
    "team_df = team_df.dropna()\n",
    "year = 2024\n",
    "drop_2024_df = team_df[team_df['season'] != year]\n",
    "team_reduced_df = drop_2024_df[[\"season\", \"team\", \"playoffs\", \"fg_percent\", \"x3p_percent\", \"x2p_percent\", \"ft_percent\", \"orb\", \"drb\", \"trb\", \"ast\", \"stl\", \"blk\", \"tov\", \"pts\", \"w\", \"l\", \"srs\", \"o_rtg\", \"d_rtg\", \"n_rtg\", \"f_tr\", \"x3p_ar\", \"e_fg_percent\", \"tov_percent\", \"orb_percent\"\n",
    "]]\n",
    "columns = {\n",
    "    \"season\": \"Season\",\n",
    "    \"team\": \"Team\",\n",
    "    \"playoffs\": \"Playoffs\",\n",
    "    \"fg_percent\": \"Field Goal Percentage\",\n",
    "    \"x3p_percent\": \"Three-Point Percentage\",\n",
    "    \"x2p_percent\": \"Two-Point Percentage\",\n",
    "    \"ft_percent\": \"Free Throw Percentage\",\n",
    "    \"orb\": \"Offensive Rebounds\",\n",
    "    \"drb\": \"Defensive Rebounds\",\n",
    "    \"trb\": \"Total Rebounds\",\n",
    "    \"ast\": \"Assists\",\n",
    "    \"stl\": \"Steals\",\n",
    "    \"blk\": \"Blocks\",\n",
    "    \"tov\": \"Turnovers\",\n",
    "    \"pts\": \"Points\",\n",
    "    \"w\": \"Wins\",\n",
    "    \"l\": \"Losses\",\n",
    "    \"srs\": \"Simple Rating System\",\n",
    "    \"o_rtg\": \"Offensive Rating\",\n",
    "    \"d_rtg\": \"Defensive Rating\",\n",
    "    \"n_rtg\": \"Net Rating\",\n",
    "    \"f_tr\": \"Free Throw Rate\",\n",
    "    \"x3p_ar\": \"Three-Point Attempt Rate\",\n",
    "    \"e_fg_percent\": \"Effective Field Goal Percentage\",\n",
    "    \"tov_percent\": \"Turnover Percentage\",\n",
    "    \"orb_percent\": \"Offensive Rebound Percentage\"\n",
    "}\n",
    "team_reduced_df = team_reduced_df.rename(columns=columns)\n",
    "team_reduced_df.head()\n"
   ]
  },
  {
   "cell_type": "code",
   "execution_count": null,
   "metadata": {},
   "outputs": [],
   "source": [
    "##Cleaning Offensive\n"
   ]
  },
  {
   "cell_type": "code",
   "execution_count": null,
   "metadata": {},
   "outputs": [],
   "source": [
    "##Cleaning Defensive\n",
    "team_reduced_df = team_df[[ \"drb\", \"stl\", \"blk\", \"tov\", \"d_rtg\",\"tov_percent\"\n",
    "]]\n",
    "columns = {\n",
    "    \"drb\": \"Defensive Rebounds\",\n",
    "    \"stl\": \"Steals\",\n",
    "    \"blk\": \"Blocks\",\n",
    "    \"tov\": \"Turnovers\",\n",
    "    \"l\": \"Losses\",\n",
    "    \"d_rtg\": \"Defensive Rating\",\n",
    "}\n",
    "team_reduced_df = team_reduced_df.rename(columns=columns)\n",
    "team_reduced_df.head()"
   ]
  },
  {
   "cell_type": "code",
   "execution_count": null,
   "metadata": {},
   "outputs": [],
   "source": [
    "##Visualization Offense\n",
    "##Sorting Data\n",
    "team_rating = team_reduced_df.sort_values(by='Offensive Rating', ascending=False)\n",
    "team_rating['Team Season'] = team_rating['Team'] + ' ' + team_rating['Season'].astype(str)\n",
    "best_offense = team_rating.head(5)\n",
    "\n",
    "##Creating Bar Graph\n",
    "plt.bar(best_offense['Team Season'], best_offense['Offensive Rating'], color='skyblue', align='center')\n",
    "plt.xticks(rotation=45, ha='right')\n",
    "plt.ylim(110, 120)\n",
    "plt.yticks(np.arange(110, 120, 0.5))\n",
    "plt.ylabel('Offensive Rating')\n",
    "plt.title('Top 5 Teams According to Offensive Rating')\n",
    "plt.show()"
   ]
  },
  {
   "cell_type": "code",
   "execution_count": null,
   "metadata": {},
   "outputs": [],
   "source": [
    "##Visulization Defense\n",
    "##Sorting Data\n",
    "team_rating = team_reduced_df.sort_values(by='Defensive Rating', ascending=False)\n",
    "team_rating['Team Season'] = team_rating['Team'] + ' ' + team_rating['Season'].astype(str)\n",
    "best_defense = team_rating.head(5)\n",
    "\n",
    "##Creating Bar Graph\n",
    "plt.bar(best_defense['Team'], best_defense['Defensive Rating'], color='green', alpha=0.7, align='center')\n",
    "plt.xticks(rotation=45, ha='right')\n",
    "plt.ylim(110, 120)\n",
    "plt.yticks(np.arange(110, 121, 0.5))\n",
    "plt.ylabel('Defensive Rating')\n",
    "plt.title('Top 5 Teams According to Defensive Rating')\n",
    "plt.show()"
   ]
  },
  {
   "cell_type": "code",
   "execution_count": null,
   "metadata": {},
   "outputs": [],
   "source": [
    "##Visualization Overall\n",
    "##Sorting Data\n",
    "team_reduced_df['Overall Rating'] = team_reduced_df['Offensive Rating'] + team_reduced_df['Defensive Rating']\n",
    "team_rating = team_reduced_df.sort_values(by='Overall Rating', ascending=False)\n",
    "team_rating['Team Season'] = team_rating['Team'] + ' ' + team_rating['Season'].astype(str)\n",
    "best_overall = team_rating.head(5)\n",
    "\n",
    "##Creating Bar Graph\n",
    "plt.bar(best_overall['Team Season'], best_overall['Overall Rating'], color='r', alpha=0.6, align='center')\n",
    "plt.xticks(rotation=45, ha='right')\n",
    "plt.ylim(230, 236.5)\n",
    "plt.yticks(np.arange(230, 237, 0.5))\n",
    "plt.ylabel('Overall Rating')\n",
    "plt.title('Top 5 Teams According to Overall Rating')\n",
    "plt.show()"
   ]
  },
  {
   "cell_type": "code",
   "execution_count": null,
   "metadata": {},
   "outputs": [],
   "source": [
    "##Visualization Overall\n",
    "##Sorting Data\n",
    "team_reduced_df['Overall Rating'] = team_reduced_df['Offensive Rating'] + team_reduced_df['Defensive Rating']\n",
    "team_rating = team_reduced_df.sort_values(by='Overall Rating', ascending=False)\n",
    "team_rating['Team Season'] = team_rating['Team'] + ' ' + team_rating['Season'].astype(str)\n",
    "best_overall = team_rating.head(50)\n",
    "\n",
    "##Creating Bar Graph\n",
    "plt.bar(best_overall['Team Season'], best_overall['Overall Rating'], color='r', alpha=0.6, align='center')\n",
    "plt.xticks(rotation=90, ha='right')\n",
    "plt.ylim(225, 236.5)\n",
    "plt.yticks(np.arange(225, 237, 0.5))\n",
    "plt.ylabel('Overall Rating')\n",
    "plt.title('Top 5 Teams According to Overall Rating')\n",
    "plt.show()"
   ]
  },
  {
   "cell_type": "code",
   "execution_count": null,
   "metadata": {},
   "outputs": [],
   "source": []
  }
 ],
 "metadata": {
  "kernelspec": {
   "display_name": "dev",
   "language": "python",
   "name": "python3"
  },
  "language_info": {
   "codemirror_mode": {
    "name": "ipython",
    "version": 3
   },
   "file_extension": ".py",
   "mimetype": "text/x-python",
   "name": "python",
   "nbconvert_exporter": "python",
   "pygments_lexer": "ipython3",
   "version": "3.10.13"
  }
 },
 "nbformat": 4,
 "nbformat_minor": 2
}
